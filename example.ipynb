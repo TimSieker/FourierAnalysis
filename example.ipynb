{
 "cells": [
  {
   "cell_type": "markdown",
   "id": "ac2ee338-c0d8-41e2-bce6-d29b28c38e95",
   "metadata": {},
   "source": [
    "#### Description: Functions to analyse timeseries on their spetrum.\n",
    "#### Author:      Tim Sieker\n",
    "#### E-mail:      timsieker@gmail.com"
   ]
  },
  {
   "cell_type": "code",
   "execution_count": null,
   "id": "d4bb0d3c-7544-4b94-82ea-daffbdfef081",
   "metadata": {},
   "outputs": [],
   "source": [
    "from climvar import *"
   ]
  },
  {
   "cell_type": "code",
   "execution_count": null,
   "id": "597f4655-615e-4a61-b399-09f363495a27",
   "metadata": {},
   "outputs": [],
   "source": [
    "### import 1d time series of NAO index\n",
    "nlag = 100\n",
    "idx = int(nlag / 2)\n",
    "NAO = np.loadtxt('C:/Users/timsi/Documents/CLIMDATA/NAO/norm.nao.monthly.b5001.current.ascii.txt')\n",
    "NAO_year = NAO[:,0]\n",
    "NAO_month = NAO[:,1]\n",
    "NAO_time = (NAO_year - 1950)*12 + NAO_month ## in months since 1950\n",
    "NAO_data = NAO[:,2]\n",
    "N = len(NAO_data)"
   ]
  },
  {
   "cell_type": "markdown",
   "id": "4b7aa652-0cb5-4839-940b-d675ba00c7f7",
   "metadata": {},
   "source": [
    "Check data on missing values, uneven time steps or unrealistic values"
   ]
  },
  {
   "cell_type": "code",
   "execution_count": 1,
   "id": "657175db-ce52-4523-afcc-d01972fb5269",
   "metadata": {
    "tags": []
   },
   "outputs": [
    {
     "ename": "NameError",
     "evalue": "name 'check_data' is not defined",
     "output_type": "error",
     "traceback": [
      "\u001b[0;31m---------------------------------------------------------------------------\u001b[0m",
      "\u001b[0;31mNameError\u001b[0m                                 Traceback (most recent call last)",
      "\u001b[0;32m/tmp/ipykernel_63/1980541384.py\u001b[0m in \u001b[0;36m<module>\u001b[0;34m\u001b[0m\n\u001b[0;32m----> 1\u001b[0;31m \u001b[0mcheck_data\u001b[0m\u001b[0;34m(\u001b[0m\u001b[0mNAO_data\u001b[0m\u001b[0;34m,\u001b[0m \u001b[0mt\u001b[0m\u001b[0;34m=\u001b[0m\u001b[0mNAO_time\u001b[0m\u001b[0;34m)\u001b[0m\u001b[0;34m\u001b[0m\u001b[0;34m\u001b[0m\u001b[0m\n\u001b[0m",
      "\u001b[0;31mNameError\u001b[0m: name 'check_data' is not defined"
     ]
    }
   ],
   "source": [
    "check_data(NAO_data, t=NAO_time)"
   ]
  },
  {
   "cell_type": "markdown",
   "id": "72c75521-facb-49e8-a271-022bf650d4e1",
   "metadata": {},
   "source": [
    "No issues where detected in this data, so we can go ahead and calculate the spectrum and the fitted AR processes."
   ]
  },
  {
   "cell_type": "code",
   "execution_count": null,
   "id": "31bd3a31-d532-4b5e-8457-998f736059dc",
   "metadata": {},
   "outputs": [],
   "source": [
    "freq, NAO_spect = spectrum(NAO_data, ft_method='fft')\n",
    "\n",
    "_, NAO_spect_rn = red_noise(NAO_data)\n",
    "_,NAO_spect_wn = white_noise(NAO_data)\n",
    "\n",
    "NAO_spect_rn_99n, NAO_spect_rn_99p = noise_ci(NAO_spect_rn, q=0.05)"
   ]
  },
  {
   "cell_type": "markdown",
   "id": "629d59de-8ce7-4f62-9e90-ab4845c3ab91",
   "metadata": {},
   "source": [
    "And make a simple plot:"
   ]
  },
  {
   "cell_type": "markdown",
   "id": "36887d36-2033-4b40-b8a6-bc1339f144d5",
   "metadata": {},
   "source": [
    "plt.plot(freq[:idx], NAO_spect[:idx], 'blue', label='NAO index')\n",
    "plt.plot(freq[:idx], NAO_spect_rn[:idx], 'r', label='fitted AR1 (red noise) process')\n",
    "plt.plot(freq[:idx], NAO_spect_rn_99p[:idx], 'r--', label='upper ci of AR1 process')\n",
    "plt.plot(freq[:idx], NAO_spect_rn_99n[:idx],'r--', label='lower ci of AR1 process')\n",
    "plt.plot(freq[:idx], NAO_spect_wn[:idx],'green', label='fitted AR0 (white noise) process')\n",
    "plt.legend()\n",
    "\n",
    "plt.xlabel('Frequency [1/time step]')\n",
    "plt.ylabel('Spectral Variance')\n"
   ]
  }
 ],
 "metadata": {
  "kernelspec": {
   "display_name": "climDAT",
   "language": "python",
   "name": "climdat"
  },
  "language_info": {
   "codemirror_mode": {
    "name": "ipython",
    "version": 3
   },
   "file_extension": ".py",
   "mimetype": "text/x-python",
   "name": "python",
   "nbconvert_exporter": "python",
   "pygments_lexer": "ipython3",
   "version": "3.7.12"
  }
 },
 "nbformat": 4,
 "nbformat_minor": 5
}
